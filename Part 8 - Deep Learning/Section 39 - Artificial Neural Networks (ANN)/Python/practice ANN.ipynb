{
 "cells": [
  {
   "cell_type": "markdown",
   "metadata": {
    "colab_type": "text",
    "id": "lP6JLo1tGNBg"
   },
   "source": [
    "# Artificial Neural Network"
   ]
  },
  {
   "cell_type": "markdown",
   "metadata": {
    "colab_type": "text",
    "id": "gWZyYmS_UE_L"
   },
   "source": [
    "### Importing the libraries"
   ]
  },
  {
   "cell_type": "code",
   "execution_count": 48,
   "metadata": {},
   "outputs": [
    {
     "name": "stdout",
     "output_type": "stream",
     "text": [
      "Requirement already satisfied: tensorflow in /Users/yazeedaljuhani/opt/anaconda3/lib/python3.9/site-packages (2.9.1)\n",
      "Requirement already satisfied: keras<2.10.0,>=2.9.0rc0 in /Users/yazeedaljuhani/opt/anaconda3/lib/python3.9/site-packages (from tensorflow) (2.9.0)\n",
      "Requirement already satisfied: google-pasta>=0.1.1 in /Users/yazeedaljuhani/opt/anaconda3/lib/python3.9/site-packages (from tensorflow) (0.2.0)\n",
      "Requirement already satisfied: numpy>=1.20 in /Users/yazeedaljuhani/opt/anaconda3/lib/python3.9/site-packages (from tensorflow) (1.21.5)\n",
      "Requirement already satisfied: termcolor>=1.1.0 in /Users/yazeedaljuhani/opt/anaconda3/lib/python3.9/site-packages (from tensorflow) (1.1.0)\n",
      "Requirement already satisfied: six>=1.12.0 in /Users/yazeedaljuhani/opt/anaconda3/lib/python3.9/site-packages (from tensorflow) (1.16.0)\n",
      "Requirement already satisfied: grpcio<2.0,>=1.24.3 in /Users/yazeedaljuhani/opt/anaconda3/lib/python3.9/site-packages (from tensorflow) (1.42.0)\n",
      "Requirement already satisfied: tensorflow-estimator<2.10.0,>=2.9.0rc0 in /Users/yazeedaljuhani/opt/anaconda3/lib/python3.9/site-packages (from tensorflow) (2.9.0)\n",
      "Requirement already satisfied: opt-einsum>=2.3.2 in /Users/yazeedaljuhani/opt/anaconda3/lib/python3.9/site-packages (from tensorflow) (3.3.0)\n",
      "Requirement already satisfied: keras-preprocessing>=1.1.1 in /Users/yazeedaljuhani/opt/anaconda3/lib/python3.9/site-packages (from tensorflow) (1.1.2)\n",
      "Requirement already satisfied: tensorflow-io-gcs-filesystem>=0.23.1 in /Users/yazeedaljuhani/opt/anaconda3/lib/python3.9/site-packages (from tensorflow) (0.26.0)\n",
      "Requirement already satisfied: tensorboard<2.10,>=2.9 in /Users/yazeedaljuhani/opt/anaconda3/lib/python3.9/site-packages (from tensorflow) (2.9.1)\n",
      "Requirement already satisfied: absl-py>=1.0.0 in /Users/yazeedaljuhani/opt/anaconda3/lib/python3.9/site-packages (from tensorflow) (1.2.0)\n",
      "Requirement already satisfied: protobuf<3.20,>=3.9.2 in /Users/yazeedaljuhani/opt/anaconda3/lib/python3.9/site-packages (from tensorflow) (3.19.1)\n",
      "Requirement already satisfied: packaging in /Users/yazeedaljuhani/opt/anaconda3/lib/python3.9/site-packages (from tensorflow) (21.3)\n",
      "Requirement already satisfied: wrapt>=1.11.0 in /Users/yazeedaljuhani/opt/anaconda3/lib/python3.9/site-packages (from tensorflow) (1.12.1)\n",
      "Requirement already satisfied: astunparse>=1.6.0 in /Users/yazeedaljuhani/opt/anaconda3/lib/python3.9/site-packages (from tensorflow) (1.6.3)\n",
      "Requirement already satisfied: setuptools in /Users/yazeedaljuhani/opt/anaconda3/lib/python3.9/site-packages (from tensorflow) (61.2.0)\n",
      "Requirement already satisfied: h5py>=2.9.0 in /Users/yazeedaljuhani/opt/anaconda3/lib/python3.9/site-packages (from tensorflow) (3.6.0)\n",
      "Requirement already satisfied: typing-extensions>=3.6.6 in /Users/yazeedaljuhani/opt/anaconda3/lib/python3.9/site-packages (from tensorflow) (4.1.1)\n",
      "Requirement already satisfied: gast<=0.4.0,>=0.2.1 in /Users/yazeedaljuhani/opt/anaconda3/lib/python3.9/site-packages (from tensorflow) (0.4.0)\n",
      "Requirement already satisfied: libclang>=13.0.0 in /Users/yazeedaljuhani/opt/anaconda3/lib/python3.9/site-packages (from tensorflow) (14.0.6)\n",
      "Requirement already satisfied: flatbuffers<2,>=1.12 in /Users/yazeedaljuhani/opt/anaconda3/lib/python3.9/site-packages (from tensorflow) (1.12)\n",
      "Requirement already satisfied: wheel<1.0,>=0.23.0 in /Users/yazeedaljuhani/opt/anaconda3/lib/python3.9/site-packages (from astunparse>=1.6.0->tensorflow) (0.37.1)\n",
      "Requirement already satisfied: google-auth-oauthlib<0.5,>=0.4.1 in /Users/yazeedaljuhani/opt/anaconda3/lib/python3.9/site-packages (from tensorboard<2.10,>=2.9->tensorflow) (0.4.6)\n",
      "Requirement already satisfied: markdown>=2.6.8 in /Users/yazeedaljuhani/opt/anaconda3/lib/python3.9/site-packages (from tensorboard<2.10,>=2.9->tensorflow) (3.3.4)\n",
      "Requirement already satisfied: google-auth<3,>=1.6.3 in /Users/yazeedaljuhani/opt/anaconda3/lib/python3.9/site-packages (from tensorboard<2.10,>=2.9->tensorflow) (1.33.0)\n",
      "Requirement already satisfied: werkzeug>=1.0.1 in /Users/yazeedaljuhani/opt/anaconda3/lib/python3.9/site-packages (from tensorboard<2.10,>=2.9->tensorflow) (2.0.3)\n",
      "Requirement already satisfied: tensorboard-data-server<0.7.0,>=0.6.0 in /Users/yazeedaljuhani/opt/anaconda3/lib/python3.9/site-packages (from tensorboard<2.10,>=2.9->tensorflow) (0.6.1)\n",
      "Requirement already satisfied: tensorboard-plugin-wit>=1.6.0 in /Users/yazeedaljuhani/opt/anaconda3/lib/python3.9/site-packages (from tensorboard<2.10,>=2.9->tensorflow) (1.8.1)\n",
      "Requirement already satisfied: requests<3,>=2.21.0 in /Users/yazeedaljuhani/opt/anaconda3/lib/python3.9/site-packages (from tensorboard<2.10,>=2.9->tensorflow) (2.27.1)\n",
      "Requirement already satisfied: rsa<5,>=3.1.4 in /Users/yazeedaljuhani/opt/anaconda3/lib/python3.9/site-packages (from google-auth<3,>=1.6.3->tensorboard<2.10,>=2.9->tensorflow) (4.7.2)\n",
      "Requirement already satisfied: pyasn1-modules>=0.2.1 in /Users/yazeedaljuhani/opt/anaconda3/lib/python3.9/site-packages (from google-auth<3,>=1.6.3->tensorboard<2.10,>=2.9->tensorflow) (0.2.8)\n",
      "Requirement already satisfied: cachetools<5.0,>=2.0.0 in /Users/yazeedaljuhani/opt/anaconda3/lib/python3.9/site-packages (from google-auth<3,>=1.6.3->tensorboard<2.10,>=2.9->tensorflow) (4.2.2)\n",
      "Requirement already satisfied: requests-oauthlib>=0.7.0 in /Users/yazeedaljuhani/opt/anaconda3/lib/python3.9/site-packages (from google-auth-oauthlib<0.5,>=0.4.1->tensorboard<2.10,>=2.9->tensorflow) (1.3.1)\n",
      "Requirement already satisfied: pyasn1<0.5.0,>=0.4.6 in /Users/yazeedaljuhani/opt/anaconda3/lib/python3.9/site-packages (from pyasn1-modules>=0.2.1->google-auth<3,>=1.6.3->tensorboard<2.10,>=2.9->tensorflow) (0.4.8)\n",
      "Requirement already satisfied: certifi>=2017.4.17 in /Users/yazeedaljuhani/opt/anaconda3/lib/python3.9/site-packages (from requests<3,>=2.21.0->tensorboard<2.10,>=2.9->tensorflow) (2021.10.8)\n",
      "Requirement already satisfied: urllib3<1.27,>=1.21.1 in /Users/yazeedaljuhani/opt/anaconda3/lib/python3.9/site-packages (from requests<3,>=2.21.0->tensorboard<2.10,>=2.9->tensorflow) (1.26.9)\n",
      "Requirement already satisfied: idna<4,>=2.5 in /Users/yazeedaljuhani/opt/anaconda3/lib/python3.9/site-packages (from requests<3,>=2.21.0->tensorboard<2.10,>=2.9->tensorflow) (3.3)\n",
      "Requirement already satisfied: charset-normalizer~=2.0.0 in /Users/yazeedaljuhani/opt/anaconda3/lib/python3.9/site-packages (from requests<3,>=2.21.0->tensorboard<2.10,>=2.9->tensorflow) (2.0.4)\n",
      "Requirement already satisfied: oauthlib>=3.0.0 in /Users/yazeedaljuhani/opt/anaconda3/lib/python3.9/site-packages (from requests-oauthlib>=0.7.0->google-auth-oauthlib<0.5,>=0.4.1->tensorboard<2.10,>=2.9->tensorflow) (3.2.0)\n",
      "Requirement already satisfied: pyparsing!=3.0.5,>=2.0.2 in /Users/yazeedaljuhani/opt/anaconda3/lib/python3.9/site-packages (from packaging->tensorflow) (3.0.4)\n"
     ]
    }
   ],
   "source": [
    "!pip install tensorflow"
   ]
  },
  {
   "cell_type": "code",
   "execution_count": 49,
   "metadata": {
    "colab": {},
    "colab_type": "code",
    "id": "MxkJoQBkUIHC"
   },
   "outputs": [],
   "source": [
    "import numpy as np\n",
    "import pandas as pd\n",
    "import tensorflow as tf"
   ]
  },
  {
   "cell_type": "code",
   "execution_count": 50,
   "metadata": {
    "colab": {
     "base_uri": "https://localhost:8080/",
     "height": 34
    },
    "colab_type": "code",
    "id": "ZaTwK7ojXr2F",
    "outputId": "0b27a96d-d11a-43e8-ab4b-87c1f01896fe"
   },
   "outputs": [
    {
     "data": {
      "text/plain": [
       "'2.9.1'"
      ]
     },
     "execution_count": 50,
     "metadata": {},
     "output_type": "execute_result"
    }
   ],
   "source": [
    "tf.__version__"
   ]
  },
  {
   "cell_type": "markdown",
   "metadata": {
    "colab_type": "text",
    "id": "1E0Q3aoKUCRX"
   },
   "source": [
    "## Part 1 - Data Preprocessing"
   ]
  },
  {
   "cell_type": "markdown",
   "metadata": {
    "colab_type": "text",
    "id": "cKWAkFVGUU0Z"
   },
   "source": [
    "### Importing the dataset"
   ]
  },
  {
   "cell_type": "code",
   "execution_count": 51,
   "metadata": {
    "colab": {},
    "colab_type": "code",
    "id": "MXUkhkMfU4wq"
   },
   "outputs": [],
   "source": [
    "dataset = pd.read_csv('Churn_Modelling.csv')\n",
    "X = dataset.iloc[:, 3:-1].values\n",
    "y = dataset.iloc[:, -1].values"
   ]
  },
  {
   "cell_type": "code",
   "execution_count": null,
   "metadata": {
    "colab": {
     "base_uri": "https://localhost:8080/",
     "height": 137
    },
    "colab_type": "code",
    "id": "VYP9cQTWbzuI",
    "outputId": "797e7a64-9bac-436a-8c9c-94437e5e7587"
   },
   "outputs": [],
   "source": []
  },
  {
   "cell_type": "code",
   "execution_count": 52,
   "metadata": {
    "colab": {
     "base_uri": "https://localhost:8080/",
     "height": 34
    },
    "colab_type": "code",
    "id": "38vKGE6Nb2RR",
    "outputId": "a815e42a-e0dd-4cb5-ab97-b17ead98fbc3"
   },
   "outputs": [
    {
     "name": "stdout",
     "output_type": "stream",
     "text": [
      "[1 0 1 ... 1 1 0]\n"
     ]
    }
   ],
   "source": [
    "print(y)"
   ]
  },
  {
   "cell_type": "markdown",
   "metadata": {
    "colab_type": "text",
    "id": "N6bQ0UgSU-NJ"
   },
   "source": [
    "### Encoding categorical data"
   ]
  },
  {
   "cell_type": "markdown",
   "metadata": {
    "colab_type": "text",
    "id": "le5MJreAbW52"
   },
   "source": [
    "Label Encoding the \"Gender\" column"
   ]
  },
  {
   "cell_type": "code",
   "execution_count": 53,
   "metadata": {
    "colab": {},
    "colab_type": "code",
    "id": "PxVKWXxLbczC"
   },
   "outputs": [],
   "source": [
    "from sklearn.preprocessing import LabelEncoder\n",
    "le = LabelEncoder() \n",
    "X[:,2 ] = le.fit_transform(X[:,2]) "
   ]
  },
  {
   "cell_type": "code",
   "execution_count": 54,
   "metadata": {
    "colab": {
     "base_uri": "https://localhost:8080/",
     "height": 137
    },
    "colab_type": "code",
    "id": "-M1KboxFb6OO",
    "outputId": "e2b8c7e8-0cbc-4cdf-f4eb-7f0853a00b88"
   },
   "outputs": [
    {
     "name": "stdout",
     "output_type": "stream",
     "text": [
      "[[619 'France' 0 ... 1 1 101348.88]\n",
      " [608 'Spain' 0 ... 0 1 112542.58]\n",
      " [502 'France' 0 ... 1 0 113931.57]\n",
      " ...\n",
      " [709 'France' 0 ... 0 1 42085.58]\n",
      " [772 'Germany' 1 ... 1 0 92888.52]\n",
      " [792 'France' 0 ... 1 0 38190.78]]\n"
     ]
    }
   ],
   "source": [
    "print(X)"
   ]
  },
  {
   "cell_type": "markdown",
   "metadata": {
    "colab_type": "text",
    "id": "CUxGZezpbMcb"
   },
   "source": [
    "One Hot Encoding the \"Geography\" column"
   ]
  },
  {
   "cell_type": "code",
   "execution_count": 55,
   "metadata": {
    "colab": {},
    "colab_type": "code",
    "id": "AMXC8-KMVirw"
   },
   "outputs": [],
   "source": [
    "from sklearn.compose import ColumnTransformer \n",
    "from sklearn.preprocessing import OneHotEncoder \n",
    "ct = ColumnTransformer(transformers=[('endcoder', OneHotEncoder(),[1])], remainder='passthrough')\n",
    "X = np.array(ct.fit_transform(X))"
   ]
  },
  {
   "cell_type": "code",
   "execution_count": 56,
   "metadata": {
    "colab": {
     "base_uri": "https://localhost:8080/",
     "height": 137
    },
    "colab_type": "code",
    "id": "ZcxwEon-b8nV",
    "outputId": "23a98af4-5e33-4b26-c27b-f06e3c5d2baf"
   },
   "outputs": [
    {
     "name": "stdout",
     "output_type": "stream",
     "text": [
      "[[1.0 0.0 0.0 ... 1 1 101348.88]\n",
      " [0.0 0.0 1.0 ... 0 1 112542.58]\n",
      " [1.0 0.0 0.0 ... 1 0 113931.57]\n",
      " ...\n",
      " [1.0 0.0 0.0 ... 0 1 42085.58]\n",
      " [0.0 1.0 0.0 ... 1 0 92888.52]\n",
      " [1.0 0.0 0.0 ... 1 0 38190.78]]\n"
     ]
    }
   ],
   "source": [
    "print(X)"
   ]
  },
  {
   "cell_type": "markdown",
   "metadata": {
    "colab_type": "text",
    "id": "vHol938cW8zd"
   },
   "source": [
    "### Splitting the dataset into the Training set and Test set"
   ]
  },
  {
   "cell_type": "code",
   "execution_count": 57,
   "metadata": {
    "colab": {},
    "colab_type": "code",
    "id": "Z-TDt0Y_XEfc"
   },
   "outputs": [],
   "source": [
    "from sklearn.model_selection import train_test_split\n",
    "X_trian, X_test, Y_train, Y_test = train_test_split(X,y,test_size =0.2)"
   ]
  },
  {
   "cell_type": "markdown",
   "metadata": {
    "colab_type": "text",
    "id": "RE_FcHyfV3TQ"
   },
   "source": [
    "### Feature Scaling"
   ]
  },
  {
   "cell_type": "code",
   "execution_count": 58,
   "metadata": {
    "colab": {},
    "colab_type": "code",
    "id": "ViCrE00rV8Sk"
   },
   "outputs": [],
   "source": [
    "from sklearn.preprocessing import StandardScaler\n",
    "sc = StandardScaler()\n",
    "#taking all columns because feature scalling is Extremely important to deep learning \n",
    "X_trian = sc.fit_transform(X_trian)\n",
    "X_test = sc.transform(X_test)"
   ]
  },
  {
   "cell_type": "markdown",
   "metadata": {
    "colab_type": "text",
    "id": "-zfEzkRVXIwF"
   },
   "source": [
    "## Part 2 - Building the ANN"
   ]
  },
  {
   "cell_type": "markdown",
   "metadata": {
    "colab_type": "text",
    "id": "KvdeScabXtlB"
   },
   "source": [
    "### Initializing the ANN"
   ]
  },
  {
   "cell_type": "code",
   "execution_count": 59,
   "metadata": {
    "colab": {},
    "colab_type": "code",
    "id": "3dtrScHxXQox"
   },
   "outputs": [],
   "source": [
    "ann = tf.keras.models.Sequential()"
   ]
  },
  {
   "cell_type": "markdown",
   "metadata": {
    "colab_type": "text",
    "id": "rP6urV6SX7kS"
   },
   "source": [
    "### Adding the input layer and the first hidden layer"
   ]
  },
  {
   "cell_type": "code",
   "execution_count": 60,
   "metadata": {
    "colab": {},
    "colab_type": "code",
    "id": "bppGycBXYCQr"
   },
   "outputs": [],
   "source": [
    "ann.add(tf.keras.layers.Dense(units=6, activation='relu'))"
   ]
  },
  {
   "cell_type": "markdown",
   "metadata": {
    "colab_type": "text",
    "id": "BELWAc_8YJze"
   },
   "source": [
    "### Adding the second hidden layer"
   ]
  },
  {
   "cell_type": "code",
   "execution_count": 61,
   "metadata": {
    "colab": {},
    "colab_type": "code",
    "id": "JneR0u0sYRTd"
   },
   "outputs": [],
   "source": [
    "ann.add(tf.keras.layers.Dense(units=6, activation='relu'))"
   ]
  },
  {
   "cell_type": "markdown",
   "metadata": {
    "colab_type": "text",
    "id": "OyNEe6RXYcU4"
   },
   "source": [
    "### Adding the output layer"
   ]
  },
  {
   "cell_type": "code",
   "execution_count": 62,
   "metadata": {
    "colab": {},
    "colab_type": "code",
    "id": "Cn3x41RBYfvY"
   },
   "outputs": [],
   "source": [
    "ann.add(tf.keras.layers.Dense(units=1, activation='sigmoid'))"
   ]
  },
  {
   "cell_type": "markdown",
   "metadata": {
    "colab_type": "text",
    "id": "JT4u2S1_Y4WG"
   },
   "source": [
    "## Part 3 - Training the ANN"
   ]
  },
  {
   "cell_type": "markdown",
   "metadata": {
    "colab_type": "text",
    "id": "8GWlJChhY_ZI"
   },
   "source": [
    "### Compiling the ANN"
   ]
  },
  {
   "cell_type": "code",
   "execution_count": 63,
   "metadata": {
    "colab": {},
    "colab_type": "code",
    "id": "fG3RrwDXZEaS"
   },
   "outputs": [],
   "source": [
    "ann.compile(optimizer='adam', loss='binary_crossentropy', metrics=['accuracy'])"
   ]
  },
  {
   "cell_type": "markdown",
   "metadata": {
    "colab_type": "text",
    "id": "0QR_G5u7ZLSM"
   },
   "source": [
    "### Training the ANN on the Training set"
   ]
  },
  {
   "cell_type": "code",
   "execution_count": 64,
   "metadata": {
    "colab": {
     "base_uri": "https://localhost:8080/",
     "height": 1000
    },
    "colab_type": "code",
    "id": "nHZ-LKv_ZRb3",
    "outputId": "718cc4b0-b5aa-40f0-9b20-d3d31730a531"
   },
   "outputs": [
    {
     "name": "stdout",
     "output_type": "stream",
     "text": [
      "Epoch 1/100\n",
      "250/250 [==============================] - 1s 809us/step - loss: 0.5207 - accuracy: 0.7760\n",
      "Epoch 2/100\n",
      "250/250 [==============================] - 0s 791us/step - loss: 0.4646 - accuracy: 0.7999\n",
      "Epoch 3/100\n",
      "250/250 [==============================] - 0s 766us/step - loss: 0.4453 - accuracy: 0.8083\n",
      "Epoch 4/100\n",
      "250/250 [==============================] - 0s 731us/step - loss: 0.4350 - accuracy: 0.8133\n",
      "Epoch 5/100\n",
      "250/250 [==============================] - 0s 768us/step - loss: 0.4278 - accuracy: 0.8192\n",
      "Epoch 6/100\n",
      "250/250 [==============================] - 0s 755us/step - loss: 0.4223 - accuracy: 0.8236\n",
      "Epoch 7/100\n",
      "250/250 [==============================] - 0s 748us/step - loss: 0.4178 - accuracy: 0.8269\n",
      "Epoch 8/100\n",
      "250/250 [==============================] - 0s 886us/step - loss: 0.4142 - accuracy: 0.8289\n",
      "Epoch 9/100\n",
      "250/250 [==============================] - 0s 849us/step - loss: 0.4114 - accuracy: 0.8305\n",
      "Epoch 10/100\n",
      "250/250 [==============================] - 0s 813us/step - loss: 0.4086 - accuracy: 0.8316\n",
      "Epoch 11/100\n",
      "250/250 [==============================] - 0s 892us/step - loss: 0.4060 - accuracy: 0.8335\n",
      "Epoch 12/100\n",
      "250/250 [==============================] - 0s 754us/step - loss: 0.4042 - accuracy: 0.8346\n",
      "Epoch 13/100\n",
      "250/250 [==============================] - 0s 795us/step - loss: 0.4025 - accuracy: 0.8360\n",
      "Epoch 14/100\n",
      "250/250 [==============================] - 0s 901us/step - loss: 0.4010 - accuracy: 0.8356\n",
      "Epoch 15/100\n",
      "250/250 [==============================] - 0s 884us/step - loss: 0.3995 - accuracy: 0.8371\n",
      "Epoch 16/100\n",
      "250/250 [==============================] - 0s 864us/step - loss: 0.3983 - accuracy: 0.8374\n",
      "Epoch 17/100\n",
      "250/250 [==============================] - 0s 773us/step - loss: 0.3973 - accuracy: 0.8395\n",
      "Epoch 18/100\n",
      "250/250 [==============================] - 0s 773us/step - loss: 0.3964 - accuracy: 0.8397\n",
      "Epoch 19/100\n",
      "250/250 [==============================] - 0s 835us/step - loss: 0.3956 - accuracy: 0.8407\n",
      "Epoch 20/100\n",
      "250/250 [==============================] - 0s 883us/step - loss: 0.3946 - accuracy: 0.8396\n",
      "Epoch 21/100\n",
      "250/250 [==============================] - 0s 908us/step - loss: 0.3943 - accuracy: 0.8409\n",
      "Epoch 22/100\n",
      "250/250 [==============================] - 0s 843us/step - loss: 0.3935 - accuracy: 0.8414\n",
      "Epoch 23/100\n",
      "250/250 [==============================] - 0s 971us/step - loss: 0.3931 - accuracy: 0.8414\n",
      "Epoch 24/100\n",
      "250/250 [==============================] - 0s 882us/step - loss: 0.3924 - accuracy: 0.8416\n",
      "Epoch 25/100\n",
      "250/250 [==============================] - 0s 846us/step - loss: 0.3924 - accuracy: 0.8416\n",
      "Epoch 26/100\n",
      "250/250 [==============================] - 0s 766us/step - loss: 0.3919 - accuracy: 0.8414\n",
      "Epoch 27/100\n",
      "250/250 [==============================] - 0s 768us/step - loss: 0.3915 - accuracy: 0.8426\n",
      "Epoch 28/100\n",
      "250/250 [==============================] - 0s 904us/step - loss: 0.3912 - accuracy: 0.8415\n",
      "Epoch 29/100\n",
      "250/250 [==============================] - 0s 911us/step - loss: 0.3910 - accuracy: 0.8420\n",
      "Epoch 30/100\n",
      "250/250 [==============================] - 0s 845us/step - loss: 0.3907 - accuracy: 0.8419\n",
      "Epoch 31/100\n",
      "250/250 [==============================] - 0s 764us/step - loss: 0.3904 - accuracy: 0.8422\n",
      "Epoch 32/100\n",
      "250/250 [==============================] - 0s 768us/step - loss: 0.3900 - accuracy: 0.8418\n",
      "Epoch 33/100\n",
      "250/250 [==============================] - 0s 789us/step - loss: 0.3896 - accuracy: 0.8415\n",
      "Epoch 34/100\n",
      "250/250 [==============================] - 0s 897us/step - loss: 0.3896 - accuracy: 0.8407\n",
      "Epoch 35/100\n",
      "250/250 [==============================] - 0s 805us/step - loss: 0.3889 - accuracy: 0.8428\n",
      "Epoch 36/100\n",
      "250/250 [==============================] - 0s 777us/step - loss: 0.3889 - accuracy: 0.8426\n",
      "Epoch 37/100\n",
      "250/250 [==============================] - 0s 803us/step - loss: 0.3886 - accuracy: 0.8420\n",
      "Epoch 38/100\n",
      "250/250 [==============================] - 0s 754us/step - loss: 0.3889 - accuracy: 0.8413\n",
      "Epoch 39/100\n",
      "250/250 [==============================] - 0s 962us/step - loss: 0.3886 - accuracy: 0.8429\n",
      "Epoch 40/100\n",
      "250/250 [==============================] - 0s 944us/step - loss: 0.3885 - accuracy: 0.8419\n",
      "Epoch 41/100\n",
      "250/250 [==============================] - 0s 1ms/step - loss: 0.3881 - accuracy: 0.8434\n",
      "Epoch 42/100\n",
      "250/250 [==============================] - 0s 994us/step - loss: 0.3879 - accuracy: 0.8419\n",
      "Epoch 43/100\n",
      "250/250 [==============================] - 0s 889us/step - loss: 0.3879 - accuracy: 0.8420\n",
      "Epoch 44/100\n",
      "250/250 [==============================] - 0s 950us/step - loss: 0.3881 - accuracy: 0.8428\n",
      "Epoch 45/100\n",
      "250/250 [==============================] - 0s 1ms/step - loss: 0.3877 - accuracy: 0.8422\n",
      "Epoch 46/100\n",
      "250/250 [==============================] - 0s 1ms/step - loss: 0.3875 - accuracy: 0.8407\n",
      "Epoch 47/100\n",
      "250/250 [==============================] - 0s 923us/step - loss: 0.3873 - accuracy: 0.8416\n",
      "Epoch 48/100\n",
      "250/250 [==============================] - 0s 1000us/step - loss: 0.3873 - accuracy: 0.8419\n",
      "Epoch 49/100\n",
      "250/250 [==============================] - 0s 967us/step - loss: 0.3871 - accuracy: 0.8406\n",
      "Epoch 50/100\n",
      "250/250 [==============================] - 0s 917us/step - loss: 0.3868 - accuracy: 0.8411\n",
      "Epoch 51/100\n",
      "250/250 [==============================] - 0s 951us/step - loss: 0.3859 - accuracy: 0.8428\n",
      "Epoch 52/100\n",
      "250/250 [==============================] - 0s 975us/step - loss: 0.3859 - accuracy: 0.8418\n",
      "Epoch 53/100\n",
      "250/250 [==============================] - 0s 919us/step - loss: 0.3852 - accuracy: 0.8425\n",
      "Epoch 54/100\n",
      "250/250 [==============================] - 0s 825us/step - loss: 0.3846 - accuracy: 0.8418\n",
      "Epoch 55/100\n",
      "250/250 [==============================] - 0s 847us/step - loss: 0.3844 - accuracy: 0.8418\n",
      "Epoch 56/100\n",
      "250/250 [==============================] - 0s 800us/step - loss: 0.3837 - accuracy: 0.8429\n",
      "Epoch 57/100\n",
      "250/250 [==============================] - 0s 796us/step - loss: 0.3831 - accuracy: 0.8410\n",
      "Epoch 58/100\n",
      "250/250 [==============================] - 0s 877us/step - loss: 0.3819 - accuracy: 0.8440\n",
      "Epoch 59/100\n",
      "250/250 [==============================] - 0s 898us/step - loss: 0.3808 - accuracy: 0.8435\n",
      "Epoch 60/100\n",
      "250/250 [==============================] - 0s 896us/step - loss: 0.3781 - accuracy: 0.8438\n",
      "Epoch 61/100\n",
      "250/250 [==============================] - 0s 950us/step - loss: 0.3756 - accuracy: 0.8445\n",
      "Epoch 62/100\n",
      "250/250 [==============================] - 0s 875us/step - loss: 0.3713 - accuracy: 0.8464\n",
      "Epoch 63/100\n",
      "250/250 [==============================] - 0s 991us/step - loss: 0.3661 - accuracy: 0.8470\n",
      "Epoch 64/100\n",
      "250/250 [==============================] - 0s 948us/step - loss: 0.3607 - accuracy: 0.8516\n",
      "Epoch 65/100\n",
      "250/250 [==============================] - 0s 896us/step - loss: 0.3558 - accuracy: 0.8531\n",
      "Epoch 66/100\n",
      "250/250 [==============================] - 0s 866us/step - loss: 0.3521 - accuracy: 0.8543\n",
      "Epoch 67/100\n",
      "250/250 [==============================] - 0s 766us/step - loss: 0.3485 - accuracy: 0.8560\n",
      "Epoch 68/100\n",
      "250/250 [==============================] - 0s 839us/step - loss: 0.3454 - accuracy: 0.8595\n",
      "Epoch 69/100\n",
      "250/250 [==============================] - 0s 919us/step - loss: 0.3431 - accuracy: 0.8597\n",
      "Epoch 70/100\n",
      "250/250 [==============================] - 0s 812us/step - loss: 0.3410 - accuracy: 0.8597\n",
      "Epoch 71/100\n",
      "250/250 [==============================] - 0s 832us/step - loss: 0.3395 - accuracy: 0.8615\n",
      "Epoch 72/100\n",
      "250/250 [==============================] - 0s 799us/step - loss: 0.3379 - accuracy: 0.8637\n",
      "Epoch 73/100\n",
      "250/250 [==============================] - 0s 889us/step - loss: 0.3366 - accuracy: 0.8622\n",
      "Epoch 74/100\n",
      "250/250 [==============================] - 0s 906us/step - loss: 0.3353 - accuracy: 0.8630\n",
      "Epoch 75/100\n",
      "250/250 [==============================] - 0s 862us/step - loss: 0.3347 - accuracy: 0.8650\n",
      "Epoch 76/100\n",
      "250/250 [==============================] - 0s 864us/step - loss: 0.3343 - accuracy: 0.8635\n",
      "Epoch 77/100\n",
      "250/250 [==============================] - 0s 830us/step - loss: 0.3336 - accuracy: 0.8620\n",
      "Epoch 78/100\n",
      "250/250 [==============================] - 0s 866us/step - loss: 0.3323 - accuracy: 0.8651\n",
      "Epoch 79/100\n"
     ]
    },
    {
     "name": "stdout",
     "output_type": "stream",
     "text": [
      "250/250 [==============================] - 0s 831us/step - loss: 0.3324 - accuracy: 0.8652\n",
      "Epoch 80/100\n",
      "250/250 [==============================] - 0s 788us/step - loss: 0.3321 - accuracy: 0.8634\n",
      "Epoch 81/100\n",
      "250/250 [==============================] - 0s 833us/step - loss: 0.3320 - accuracy: 0.8655\n",
      "Epoch 82/100\n",
      "250/250 [==============================] - 0s 800us/step - loss: 0.3309 - accuracy: 0.8648\n",
      "Epoch 83/100\n",
      "250/250 [==============================] - 0s 822us/step - loss: 0.3310 - accuracy: 0.8655\n",
      "Epoch 84/100\n",
      "250/250 [==============================] - 0s 855us/step - loss: 0.3312 - accuracy: 0.8646\n",
      "Epoch 85/100\n",
      "250/250 [==============================] - 0s 842us/step - loss: 0.3307 - accuracy: 0.8661\n",
      "Epoch 86/100\n",
      "250/250 [==============================] - 0s 793us/step - loss: 0.3304 - accuracy: 0.8646\n",
      "Epoch 87/100\n",
      "250/250 [==============================] - 0s 777us/step - loss: 0.3301 - accuracy: 0.8655\n",
      "Epoch 88/100\n",
      "250/250 [==============================] - 0s 776us/step - loss: 0.3299 - accuracy: 0.8643\n",
      "Epoch 89/100\n",
      "250/250 [==============================] - 0s 776us/step - loss: 0.3298 - accuracy: 0.8655\n",
      "Epoch 90/100\n",
      "250/250 [==============================] - 0s 786us/step - loss: 0.3295 - accuracy: 0.8660\n",
      "Epoch 91/100\n",
      "250/250 [==============================] - 0s 803us/step - loss: 0.3297 - accuracy: 0.8664\n",
      "Epoch 92/100\n",
      "250/250 [==============================] - 0s 786us/step - loss: 0.3293 - accuracy: 0.8644\n",
      "Epoch 93/100\n",
      "250/250 [==============================] - 0s 772us/step - loss: 0.3291 - accuracy: 0.8650\n",
      "Epoch 94/100\n",
      "250/250 [==============================] - 0s 753us/step - loss: 0.3293 - accuracy: 0.8649\n",
      "Epoch 95/100\n",
      "250/250 [==============================] - 0s 774us/step - loss: 0.3294 - accuracy: 0.8651\n",
      "Epoch 96/100\n",
      "250/250 [==============================] - 0s 827us/step - loss: 0.3288 - accuracy: 0.8649\n",
      "Epoch 97/100\n",
      "250/250 [==============================] - 0s 828us/step - loss: 0.3290 - accuracy: 0.8656\n",
      "Epoch 98/100\n",
      "250/250 [==============================] - 0s 832us/step - loss: 0.3288 - accuracy: 0.8658\n",
      "Epoch 99/100\n",
      "250/250 [==============================] - 0s 772us/step - loss: 0.3285 - accuracy: 0.8655\n",
      "Epoch 100/100\n",
      "250/250 [==============================] - 0s 788us/step - loss: 0.3287 - accuracy: 0.8659\n"
     ]
    },
    {
     "data": {
      "text/plain": [
       "<keras.callbacks.History at 0x7fc091150c70>"
      ]
     },
     "execution_count": 64,
     "metadata": {},
     "output_type": "execute_result"
    }
   ],
   "source": [
    "ann.fit(X_trian, Y_train, batch_size=32, epochs=100)"
   ]
  },
  {
   "cell_type": "markdown",
   "metadata": {
    "colab_type": "text",
    "id": "tJj5k2MxZga3"
   },
   "source": [
    "## Part 4 - Making the predictions and evaluating the model"
   ]
  },
  {
   "cell_type": "markdown",
   "metadata": {
    "colab_type": "text",
    "id": "84QFoqGYeXHL"
   },
   "source": [
    "### Predicting the result of a single observation"
   ]
  },
  {
   "cell_type": "markdown",
   "metadata": {
    "colab_type": "text",
    "id": "CGRo3eacgDdC"
   },
   "source": [
    "**Homework**\n",
    "\n",
    "Use our ANN model to predict if the customer with the following informations will leave the bank: \n",
    "\n",
    "Geography: France\n",
    "\n",
    "Credit Score: 600\n",
    "\n",
    "Gender: Male\n",
    "\n",
    "Age: 40 years old\n",
    "\n",
    "Tenure: 3 years\n",
    "\n",
    "Balance: \\$ 60000\n",
    "\n",
    "Number of Products: 2\n",
    "\n",
    "Does this customer have a credit card ? Yes\n",
    "\n",
    "Is this customer an Active Member: Yes\n",
    "\n",
    "Estimated Salary: \\$ 50000\n",
    "\n",
    "So, should we say goodbye to that customer ?"
   ]
  },
  {
   "cell_type": "markdown",
   "metadata": {
    "colab_type": "text",
    "id": "ZhU1LTgPg-kH"
   },
   "source": [
    "**Solution**"
   ]
  },
  {
   "cell_type": "code",
   "execution_count": 69,
   "metadata": {
    "colab": {
     "base_uri": "https://localhost:8080/",
     "height": 34
    },
    "colab_type": "code",
    "id": "2d8IoCCkeWGL",
    "outputId": "957f3970-e197-4c3b-a150-7f69dc567f5d"
   },
   "outputs": [
    {
     "name": "stdout",
     "output_type": "stream",
     "text": [
      "1/1 [==============================] - 0s 18ms/step\n",
      "[[False]]\n"
     ]
    }
   ],
   "source": [
    "prediction = np.array([[1,0,0, 600, 1, 40, 3, 60000, 2, 1, 0, 50000]])\n",
    "\n",
    "prediction = sc.transform(prediction)\n",
    "print(ann.predict(prediction) > 0.5)"
   ]
  },
  {
   "cell_type": "markdown",
   "metadata": {
    "colab_type": "text",
    "id": "wGjx94g2n7OV"
   },
   "source": [
    "Therefore, our ANN model predicts that this customer stays in the bank!\n",
    "\n",
    "**Important note 1:** Notice that the values of the features were all input in a double pair of square brackets. That's because the \"predict\" method always expects a 2D array as the format of its inputs. And putting our values into a double pair of square brackets makes the input exactly a 2D array.\n",
    "\n",
    "**Important note 2:** Notice also that the \"France\" country was not input as a string in the last column but as \"1, 0, 0\" in the first three columns. That's because of course the predict method expects the one-hot-encoded values of the state, and as we see in the first row of the matrix of features X, \"France\" was encoded as \"1, 0, 0\". And be careful to include these values in the first three columns, because the dummy variables are always created in the first columns."
   ]
  },
  {
   "cell_type": "markdown",
   "metadata": {
    "colab_type": "text",
    "id": "u7yx47jPZt11"
   },
   "source": [
    "### Predicting the Test set results"
   ]
  },
  {
   "cell_type": "code",
   "execution_count": 76,
   "metadata": {
    "colab": {
     "base_uri": "https://localhost:8080/",
     "height": 137
    },
    "colab_type": "code",
    "id": "nIyEeQdRZwgs",
    "outputId": "82330ba8-9bdc-4fd1-d3cf-b6d78ee7c2a3"
   },
   "outputs": [
    {
     "name": "stdout",
     "output_type": "stream",
     "text": [
      "63/63 [==============================] - 0s 1ms/step\n",
      "[[0 0]\n",
      " [0 0]\n",
      " [0 0]\n",
      " ...\n",
      " [0 0]\n",
      " [0 0]\n",
      " [0 0]]\n"
     ]
    }
   ],
   "source": [
    "y_pred = ann.predict(X_test)\n",
    "y_pred = (y_pred> 0.5)\n",
    "print(np.concatenate((y_pred.reshape(len(y_pred),1), Y_test.reshape(len(Y_test),1)),1))"
   ]
  },
  {
   "cell_type": "markdown",
   "metadata": {
    "colab_type": "text",
    "id": "o0oyfLWoaEGw"
   },
   "source": [
    "### Making the Confusion Matrix"
   ]
  },
  {
   "cell_type": "code",
   "execution_count": 78,
   "metadata": {
    "colab": {
     "base_uri": "https://localhost:8080/",
     "height": 68
    },
    "colab_type": "code",
    "id": "ci6K_r6LaF6P",
    "outputId": "4d854e9e-22d5-432f-f6e5-a102fe3ae0bd"
   },
   "outputs": [
    {
     "name": "stdout",
     "output_type": "stream",
     "text": [
      "[[1536   63]\n",
      " [ 230  171]]\n"
     ]
    },
    {
     "data": {
      "text/plain": [
       "0.8535"
      ]
     },
     "execution_count": 78,
     "metadata": {},
     "output_type": "execute_result"
    }
   ],
   "source": [
    "from sklearn.metrics import confusion_matrix, accuracy_score\n",
    "cm = confusion_matrix(Y_test, y_pred)\n",
    "print(cm)\n",
    "accuracy_score(Y_test, y_pred)"
   ]
  },
  {
   "cell_type": "code",
   "execution_count": null,
   "metadata": {},
   "outputs": [],
   "source": []
  }
 ],
 "metadata": {
  "colab": {
   "collapsed_sections": [],
   "name": "artificial_neural_network.ipynb",
   "provenance": [],
   "toc_visible": true
  },
  "kernelspec": {
   "display_name": "Python 3 (ipykernel)",
   "language": "python",
   "name": "python3"
  },
  "language_info": {
   "codemirror_mode": {
    "name": "ipython",
    "version": 3
   },
   "file_extension": ".py",
   "mimetype": "text/x-python",
   "name": "python",
   "nbconvert_exporter": "python",
   "pygments_lexer": "ipython3",
   "version": "3.9.12"
  }
 },
 "nbformat": 4,
 "nbformat_minor": 1
}
